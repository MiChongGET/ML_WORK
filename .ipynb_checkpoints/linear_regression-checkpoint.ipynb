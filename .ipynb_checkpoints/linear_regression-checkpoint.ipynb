{
 "cells": [
  {
   "cell_type": "markdown",
   "metadata": {},
   "source": [
    "### 线性回归（Linear Regression）"
   ]
  },
  {
   "cell_type": "code",
   "execution_count": 72,
   "metadata": {},
   "outputs": [],
   "source": [
    "import numpy as np\n",
    "import pandas as pd\n",
    "import matplotlib.pyplot as plt\n",
    "import numpy.matlib"
   ]
  },
  {
   "cell_type": "code",
   "execution_count": 159,
   "metadata": {},
   "outputs": [
    {
     "data": {
      "text/html": [
       "<div>\n",
       "<style scoped>\n",
       "    .dataframe tbody tr th:only-of-type {\n",
       "        vertical-align: middle;\n",
       "    }\n",
       "\n",
       "    .dataframe tbody tr th {\n",
       "        vertical-align: top;\n",
       "    }\n",
       "\n",
       "    .dataframe thead th {\n",
       "        text-align: right;\n",
       "    }\n",
       "</style>\n",
       "<table border=\"1\" class=\"dataframe\">\n",
       "  <thead>\n",
       "    <tr style=\"text-align: right;\">\n",
       "      <th></th>\n",
       "      <th>Pop</th>\n",
       "      <th>Profit</th>\n",
       "    </tr>\n",
       "  </thead>\n",
       "  <tbody>\n",
       "    <tr>\n",
       "      <th>0</th>\n",
       "      <td>0.063064</td>\n",
       "      <td>0.755663</td>\n",
       "    </tr>\n",
       "    <tr>\n",
       "      <th>1</th>\n",
       "      <td>0.029157</td>\n",
       "      <td>0.440250</td>\n",
       "    </tr>\n",
       "    <tr>\n",
       "      <th>2</th>\n",
       "      <td>0.203288</td>\n",
       "      <td>0.609173</td>\n",
       "    </tr>\n",
       "    <tr>\n",
       "      <th>3</th>\n",
       "      <td>0.115061</td>\n",
       "      <td>0.541780</td>\n",
       "    </tr>\n",
       "    <tr>\n",
       "      <th>4</th>\n",
       "      <td>0.048492</td>\n",
       "      <td>0.354261</td>\n",
       "    </tr>\n",
       "    <tr>\n",
       "      <th>5</th>\n",
       "      <td>0.195388</td>\n",
       "      <td>0.542972</td>\n",
       "    </tr>\n",
       "    <tr>\n",
       "      <th>6</th>\n",
       "      <td>0.142611</td>\n",
       "      <td>0.262005</td>\n",
       "    </tr>\n",
       "    <tr>\n",
       "      <th>7</th>\n",
       "      <td>0.206752</td>\n",
       "      <td>0.547222</td>\n",
       "    </tr>\n",
       "    <tr>\n",
       "      <th>8</th>\n",
       "      <td>0.084961</td>\n",
       "      <td>0.345889</td>\n",
       "    </tr>\n",
       "    <tr>\n",
       "      <th>9</th>\n",
       "      <td>0.001613</td>\n",
       "      <td>0.242186</td>\n",
       "    </tr>\n",
       "  </tbody>\n",
       "</table>\n",
       "</div>"
      ],
      "text/plain": [
       "        Pop    Profit\n",
       "0  0.063064  0.755663\n",
       "1  0.029157  0.440250\n",
       "2  0.203288  0.609173\n",
       "3  0.115061  0.541780\n",
       "4  0.048492  0.354261\n",
       "5  0.195388  0.542972\n",
       "6  0.142611  0.262005\n",
       "7  0.206752  0.547222\n",
       "8  0.084961  0.345889\n",
       "9  0.001613  0.242186"
      ]
     },
     "execution_count": 159,
     "metadata": {},
     "output_type": "execute_result"
    }
   ],
   "source": [
    "path = 'ex1data1.txt'\n",
    "data = pd.read_csv(path,header=None,names=['Pop','Profit'])\n",
    "# 特征缩放\n",
    "MMS = data.iloc[:,0:2]\n",
    "data.iloc[:,0:2] = (MMS-MMS.min())/(MMS.max()-MMS.min())\n",
    "data.head(10)"
   ]
  },
  {
   "cell_type": "code",
   "execution_count": 161,
   "metadata": {},
   "outputs": [
    {
     "data": {
      "text/html": [
       "<div>\n",
       "<style scoped>\n",
       "    .dataframe tbody tr th:only-of-type {\n",
       "        vertical-align: middle;\n",
       "    }\n",
       "\n",
       "    .dataframe tbody tr th {\n",
       "        vertical-align: top;\n",
       "    }\n",
       "\n",
       "    .dataframe thead th {\n",
       "        text-align: right;\n",
       "    }\n",
       "</style>\n",
       "<table border=\"1\" class=\"dataframe\">\n",
       "  <thead>\n",
       "    <tr style=\"text-align: right;\">\n",
       "      <th></th>\n",
       "      <th>Pop</th>\n",
       "      <th>Profit</th>\n",
       "    </tr>\n",
       "  </thead>\n",
       "  <tbody>\n",
       "    <tr>\n",
       "      <th>count</th>\n",
       "      <td>97.000000</td>\n",
       "      <td>97.000000</td>\n",
       "    </tr>\n",
       "    <tr>\n",
       "      <th>mean</th>\n",
       "      <td>0.182399</td>\n",
       "      <td>0.317576</td>\n",
       "    </tr>\n",
       "    <tr>\n",
       "      <th>std</th>\n",
       "      <td>0.225306</td>\n",
       "      <td>0.205395</td>\n",
       "    </tr>\n",
       "    <tr>\n",
       "      <th>min</th>\n",
       "      <td>0.000000</td>\n",
       "      <td>0.000000</td>\n",
       "    </tr>\n",
       "    <tr>\n",
       "      <th>25%</th>\n",
       "      <td>0.039636</td>\n",
       "      <td>0.173984</td>\n",
       "    </tr>\n",
       "    <tr>\n",
       "      <th>50%</th>\n",
       "      <td>0.090969</td>\n",
       "      <td>0.269982</td>\n",
       "    </tr>\n",
       "    <tr>\n",
       "      <th>75%</th>\n",
       "      <td>0.206752</td>\n",
       "      <td>0.362588</td>\n",
       "    </tr>\n",
       "    <tr>\n",
       "      <th>max</th>\n",
       "      <td>1.000000</td>\n",
       "      <td>1.000000</td>\n",
       "    </tr>\n",
       "  </tbody>\n",
       "</table>\n",
       "</div>"
      ],
      "text/plain": [
       "             Pop     Profit\n",
       "count  97.000000  97.000000\n",
       "mean    0.182399   0.317576\n",
       "std     0.225306   0.205395\n",
       "min     0.000000   0.000000\n",
       "25%     0.039636   0.173984\n",
       "50%     0.090969   0.269982\n",
       "75%     0.206752   0.362588\n",
       "max     1.000000   1.000000"
      ]
     },
     "execution_count": 161,
     "metadata": {},
     "output_type": "execute_result"
    }
   ],
   "source": [
    "data.describe()"
   ]
  },
  {
   "cell_type": "code",
   "execution_count": 162,
   "metadata": {},
   "outputs": [
    {
     "data": {
      "image/png": "[encoded data removed]",
      "text/plain": [
       "<Figure size 864x576 with 1 Axes>"
      ]
     },
     "metadata": {
      "needs_background": "light"
     },
     "output_type": "display_data"
    }
   ],
   "source": [
    "data.plot(kind='scatter',x='Pop',y='Profit',figsize=(12,8))\n",
    "plt.show()"
   ]
  },
  {
   "cell_type": "markdown",
   "metadata": {},
   "source": [
    "#### Cost Function 代价函数"
   ]
  },
  {
   "cell_type": "code",
   "execution_count": 163,
   "metadata": {},
   "outputs": [],
   "source": [
    "def costFunction(X,y,theta):\n",
    "    inner = np.power(((X*theta.T)-y),2)\n",
    "    return np.sum(inner)/(2*len(X))"
   ]
  },
  {
   "cell_type": "code",
   "execution_count": 164,
   "metadata": {},
   "outputs": [],
   "source": [
    "data.insert(0,'Ones',1)"
   ]
  },
  {
   "cell_type": "code",
   "execution_count": 165,
   "metadata": {},
   "outputs": [],
   "source": [
    "cols = data.shape[1]\n",
    "X = data.iloc[:,0:cols-1]\n",
    "y = data.iloc[:,cols-1:cols]"
   ]
  },
  {
   "cell_type": "code",
   "execution_count": 166,
   "metadata": {},
   "outputs": [],
   "source": [
    "X = np.matrix(X.values) #转化成矩阵\n",
    "y = np.matrix(y.values) #转化为矩阵\n",
    "theta = np.matrix([[0,0]]) # 获得一个0矩阵"
   ]
  },
  {
   "cell_type": "markdown",
   "metadata": {},
   "source": [
    "#### 计算代价函数"
   ]
  },
  {
   "cell_type": "code",
   "execution_count": 167,
   "metadata": {},
   "outputs": [
    {
     "data": {
      "text/plain": [
       "0.07130326820628229"
      ]
     },
     "execution_count": 167,
     "metadata": {},
     "output_type": "execute_result"
    }
   ],
   "source": [
    "costFunction(X,y,theta)"
   ]
  },
  {
   "cell_type": "markdown",
   "metadata": {},
   "source": [
    "### Batch gradient decent(批量梯度下降)"
   ]
  },
  {
   "cell_type": "code",
   "execution_count": 168,
   "metadata": {},
   "outputs": [],
   "source": [
    "def gradientDecent(X,y,theta,alpha,iters):\n",
    "    temp =  np.matrix(np.zeros(theta.shape)) #初始化一个（1,2）的矩阵\n",
    "    parameters = int(theta.ravel().shape[1]) #参数theta的数量，即矩阵元素的数目\n",
    "    cost = np.zeros(iters) #创建iters大小的数组，数组元素以 0 来填充\n",
    "    \n",
    "    for i in range(iters):\n",
    "        error = (X*theta.T)-y #X*theta.T是多维特征函数\n",
    "        \n",
    "        for j in range(parameters):\n",
    "            term = np.multiply(error,X[:,j]) #两个数组相乘之后赋值给term\n",
    "            temp[0,j] = theta[0,j] - ((alpha /len(X)) * np.sum(term))\n",
    "            \n",
    "        theta = temp\n",
    "        cost[i] = costFunction(X,y,theta) #第i个代价函数 \n",
    "        \n",
    "    return theta ,cost\n",
    "            "
   ]
  },
  {
   "cell_type": "markdown",
   "metadata": {},
   "source": [
    "#### 初始化一些附加变量 - 学习速率α和要执行的迭代次数。"
   ]
  },
  {
   "cell_type": "code",
   "execution_count": 169,
   "metadata": {},
   "outputs": [],
   "source": [
    "alpha = 0.01\n",
    "iters = 1000"
   ]
  },
  {
   "cell_type": "markdown",
   "metadata": {},
   "source": [
    "##### 现在让我们运行梯度下降算法来将我们的参数θ适合于训练集。"
   ]
  },
  {
   "cell_type": "code",
   "execution_count": 170,
   "metadata": {},
   "outputs": [
    {
     "data": {
      "text/plain": [
       "matrix([[0.26127041, 0.33073688]])"
      ]
     },
     "execution_count": 170,
     "metadata": {},
     "output_type": "execute_result"
    }
   ],
   "source": [
    "g,cost = gradientDecent(X,y,theta,alpha,iters)\n",
    "g # 得出现在的theta值"
   ]
  },
  {
   "cell_type": "code",
   "execution_count": 171,
   "metadata": {},
   "outputs": [
    {
     "data": {
      "text/plain": [
       "array([0.07020763, 0.06913431, 0.06808285, 0.06705282, 0.06604375,\n",
       "       0.06505523, 0.06408683, 0.06313813, 0.06220873, 0.06129824,\n",
       "       0.06040626, 0.05953241, 0.05867632, 0.05783763, 0.05701597,\n",
       "       0.056211  , 0.05542237, 0.05464975, 0.0538928 , 0.05315121,\n",
       "       0.05242465, 0.05171282, 0.05101542, 0.05033215, 0.04966272,\n",
       "       0.04900683, 0.04836423, 0.04773462, 0.04711775, 0.04651335,\n",
       "       0.04592116, 0.04534094, 0.04477244, 0.04421541, 0.04366963,\n",
       "       0.04313485, 0.04261086, 0.04209742, 0.04159433, 0.04110137,\n",
       "       0.04061834, 0.04014502, 0.03968122, 0.03922675, 0.0387814 ,\n",
       "       0.038345  , 0.03791736, 0.03749829, 0.03708763, 0.0366852 ,\n",
       "       0.03629083, 0.03590435, 0.03552561, 0.03515444, 0.03479069,\n",
       "       0.0344342 , 0.03408483, 0.03374243, 0.03340686, 0.03307797,\n",
       "       0.03275563, 0.0324397 , 0.03213005, 0.03182656, 0.03152909,\n",
       "       0.03123753, 0.03095175, 0.03067163, 0.03039705, 0.03012791,\n",
       "       0.02986409, 0.02960548, 0.02935197, 0.02910346, 0.02885985,\n",
       "       0.02862103, 0.02838691, 0.02815739, 0.02793238, 0.02771178,\n",
       "       0.0274955 , 0.02728346, 0.02707557, 0.02687173, 0.02667188,\n",
       "       0.02647592, 0.02628377, 0.02609537, 0.02591063, 0.02572947,\n",
       "       0.02555183, 0.02537763, 0.02520679, 0.02503926, 0.02487496,\n",
       "       0.02471383, 0.0245558 , 0.0244008 , 0.02424879, 0.02409968,\n",
       "       0.02395344, 0.02380998, 0.02366927, 0.02353124, 0.02339584,\n",
       "       0.02326301, 0.0231327 , 0.02300486, 0.02287944, 0.02275639,\n",
       "       0.02263566, 0.0225172 , 0.02240097, 0.02228692, 0.022175  ,\n",
       "       0.02206518, 0.0219574 , 0.02185163, 0.02174783, 0.02164596,\n",
       "       0.02154597, 0.02144783, 0.0213515 , 0.02125694, 0.02116412,\n",
       "       0.02107299, 0.02098354, 0.02089572, 0.02080949, 0.02072483,\n",
       "       0.02064171, 0.02056009, 0.02047994, 0.02040123, 0.02032393,\n",
       "       0.02024802, 0.02017346, 0.02010023, 0.0200283 , 0.01995764,\n",
       "       0.01988823, 0.01982005, 0.01975306, 0.01968724, 0.01962257,\n",
       "       0.01955903, 0.01949659, 0.01943523, 0.01937492, 0.01931565,\n",
       "       0.0192574 , 0.01920014, 0.01914386, 0.01908853, 0.01903414,\n",
       "       0.01898066, 0.01892807, 0.01887637, 0.01882553, 0.01877553,\n",
       "       0.01872636, 0.01867799, 0.01863042, 0.01858363, 0.0185376 ,\n",
       "       0.01849231, 0.01844775, 0.01840391, 0.01836077, 0.01831832,\n",
       "       0.01827653, 0.01823541, 0.01819494, 0.01815509, 0.01811587,\n",
       "       0.01807725, 0.01803923, 0.01800179, 0.01796492, 0.01792862,\n",
       "       0.01789286, 0.01785763, 0.01782294, 0.01778875, 0.01775508,\n",
       "       0.0177219 , 0.0176892 , 0.01765698, 0.01762522, 0.01759393,\n",
       "       0.01756307, 0.01753266, 0.01750267, 0.01747311, 0.01744396,\n",
       "       0.01741521, 0.01738685, 0.01735889, 0.0173313 , 0.01730409,\n",
       "       0.01727724, 0.01725075, 0.0172246 , 0.01719881, 0.01717334,\n",
       "       0.01714821, 0.0171234 , 0.01709891, 0.01707473, 0.01705085,\n",
       "       0.01702727, 0.01700398, 0.01698098, 0.01695825, 0.01693581,\n",
       "       0.01691363, 0.01689172, 0.01687006, 0.01684866, 0.01682751,\n",
       "       0.0168066 , 0.01678593, 0.01676549, 0.01674529, 0.01672531,\n",
       "       0.01670554, 0.016686  , 0.01666667, 0.01664754, 0.01662862,\n",
       "       0.0166099 , 0.01659137, 0.01657304, 0.01655489, 0.01653693,\n",
       "       0.01651915, 0.01650154, 0.01648411, 0.01646685, 0.01644976,\n",
       "       0.01643283, 0.01641606, 0.01639945, 0.01638299, 0.01636669,\n",
       "       0.01635053, 0.01633452, 0.01631865, 0.01630292, 0.01628733,\n",
       "       0.01627187, 0.01625655, 0.01624135, 0.01622629, 0.01621134,\n",
       "       0.01619652, 0.01618182, 0.01616724, 0.01615277, 0.01613841,\n",
       "       0.01612417, 0.01611004, 0.01609601, 0.01608208, 0.01606826,\n",
       "       0.01605454, 0.01604092, 0.0160274 , 0.01601397, 0.01600064,\n",
       "       0.01598739, 0.01597424, 0.01596118, 0.0159482 , 0.01593531,\n",
       "       0.0159225 , 0.01590977, 0.01589712, 0.01588456, 0.01587207,\n",
       "       0.01585965, 0.01584732, 0.01583505, 0.01582286, 0.01581073,\n",
       "       0.01579868, 0.0157867 , 0.01577478, 0.01576293, 0.01575114,\n",
       "       0.01573941, 0.01572775, 0.01571615, 0.01570461, 0.01569313,\n",
       "       0.01568171, 0.01567034, 0.01565903, 0.01564777, 0.01563657,\n",
       "       0.01562542, 0.01561433, 0.01560328, 0.01559229, 0.01558134,\n",
       "       0.01557045, 0.0155596 , 0.0155488 , 0.01553804, 0.01552733,\n",
       "       0.01551667, 0.01550605, 0.01549547, 0.01548494, 0.01547444,\n",
       "       0.01546399, 0.01545358, 0.01544321, 0.01543287, 0.01542258,\n",
       "       0.01541232, 0.0154021 , 0.01539192, 0.01538177, 0.01537166,\n",
       "       0.01536158, 0.01535154, 0.01534153, 0.01533156, 0.01532162,\n",
       "       0.01531171, 0.01530183, 0.01529198, 0.01528217, 0.01527238,\n",
       "       0.01526263, 0.0152529 , 0.0152432 , 0.01523353, 0.01522389,\n",
       "       0.01521428, 0.01520469, 0.01519514, 0.0151856 , 0.0151761 ,\n",
       "       0.01516662, 0.01515716, 0.01514773, 0.01513833, 0.01512895,\n",
       "       0.01511959, 0.01511026, 0.01510095, 0.01509166, 0.0150824 ,\n",
       "       0.01507316, 0.01506394, 0.01505474, 0.01504557, 0.01503641,\n",
       "       0.01502728, 0.01501817, 0.01500907, 0.015     , 0.01499095,\n",
       "       0.01498192, 0.0149729 , 0.01496391, 0.01495494, 0.01494598,\n",
       "       0.01493704, 0.01492812, 0.01491922, 0.01491034, 0.01490147,\n",
       "       0.01489263, 0.0148838 , 0.01487498, 0.01486619, 0.01485741,\n",
       "       0.01484864, 0.0148399 , 0.01483116, 0.01482245, 0.01481375,\n",
       "       0.01480507, 0.0147964 , 0.01478775, 0.01477911, 0.01477049,\n",
       "       0.01476188, 0.01475329, 0.01474471, 0.01473614, 0.01472759,\n",
       "       0.01471906, 0.01471054, 0.01470203, 0.01469354, 0.01468506,\n",
       "       0.01467659, 0.01466814, 0.0146597 , 0.01465127, 0.01464286,\n",
       "       0.01463445, 0.01462607, 0.01461769, 0.01460933, 0.01460098,\n",
       "       0.01459264, 0.01458431, 0.014576  , 0.0145677 , 0.01455941,\n",
       "       0.01455113, 0.01454287, 0.01453461, 0.01452637, 0.01451814,\n",
       "       0.01450992, 0.01450171, 0.01449352, 0.01448533, 0.01447716,\n",
       "       0.01446899, 0.01446084, 0.0144527 , 0.01444457, 0.01443645,\n",
       "       0.01442834, 0.01442024, 0.01441216, 0.01440408, 0.01439601,\n",
       "       0.01438795, 0.01437991, 0.01437187, 0.01436385, 0.01435583,\n",
       "       0.01434783, 0.01433983, 0.01433185, 0.01432387, 0.0143159 ,\n",
       "       0.01430795, 0.0143    , 0.01429207, 0.01428414, 0.01427622,\n",
       "       0.01426831, 0.01426042, 0.01425253, 0.01424465, 0.01423678,\n",
       "       0.01422892, 0.01422107, 0.01421322, 0.01420539, 0.01419757,\n",
       "       0.01418975, 0.01418195, 0.01417415, 0.01416636, 0.01415858,\n",
       "       0.01415081, 0.01414305, 0.0141353 , 0.01412756, 0.01411982,\n",
       "       0.0141121 , 0.01410438, 0.01409667, 0.01408897, 0.01408128,\n",
       "       0.0140736 , 0.01406592, 0.01405826, 0.0140506 , 0.01404295,\n",
       "       0.01403531, 0.01402768, 0.01402006, 0.01401244, 0.01400484,\n",
       "       0.01399724, 0.01398965, 0.01398207, 0.01397449, 0.01396693,\n",
       "       0.01395937, 0.01395182, 0.01394428, 0.01393675, 0.01392922,\n",
       "       0.0139217 , 0.0139142 , 0.01390669, 0.0138992 , 0.01389172,\n",
       "       0.01388424, 0.01387677, 0.01386931, 0.01386185, 0.01385441,\n",
       "       0.01384697, 0.01383954, 0.01383212, 0.0138247 , 0.0138173 ,\n",
       "       0.0138099 , 0.01380251, 0.01379512, 0.01378775, 0.01378038,\n",
       "       0.01377302, 0.01376567, 0.01375832, 0.01375098, 0.01374365,\n",
       "       0.01373633, 0.01372901, 0.01372171, 0.01371441, 0.01370711,\n",
       "       0.01369983, 0.01369255, 0.01368528, 0.01367802, 0.01367076,\n",
       "       0.01366351, 0.01365627, 0.01364904, 0.01364181, 0.01363459,\n",
       "       0.01362738, 0.01362018, 0.01361298, 0.01360579, 0.01359861,\n",
       "       0.01359143, 0.01358427, 0.01357711, 0.01356995, 0.01356281,\n",
       "       0.01355567, 0.01354854, 0.01354141, 0.01353429, 0.01352718,\n",
       "       0.01352008, 0.01351298, 0.0135059 , 0.01349881, 0.01349174,\n",
       "       0.01348467, 0.01347761, 0.01347056, 0.01346351, 0.01345647,\n",
       "       0.01344944, 0.01344241, 0.0134354 , 0.01342838, 0.01342138,\n",
       "       0.01341438, 0.01340739, 0.01340041, 0.01339343, 0.01338646,\n",
       "       0.0133795 , 0.01337254, 0.01336559, 0.01335865, 0.01335172,\n",
       "       0.01334479, 0.01333787, 0.01333095, 0.01332405, 0.01331714,\n",
       "       0.01331025, 0.01330336, 0.01329648, 0.01328961, 0.01328274,\n",
       "       0.01327588, 0.01326903, 0.01326218, 0.01325534, 0.01324851,\n",
       "       0.01324168, 0.01323486, 0.01322805, 0.01322124, 0.01321444,\n",
       "       0.01320765, 0.01320087, 0.01319409, 0.01318731, 0.01318055,\n",
       "       0.01317379, 0.01316703, 0.01316029, 0.01315355, 0.01314682,\n",
       "       0.01314009, 0.01313337, 0.01312666, 0.01311995, 0.01311325,\n",
       "       0.01310656, 0.01309987, 0.01309319, 0.01308652, 0.01307985,\n",
       "       0.01307319, 0.01306653, 0.01305989, 0.01305324, 0.01304661,\n",
       "       0.01303998, 0.01303336, 0.01302674, 0.01302014, 0.01301353,\n",
       "       0.01300694, 0.01300035, 0.01299377, 0.01298719, 0.01298062,\n",
       "       0.01297406, 0.0129675 , 0.01296095, 0.0129544 , 0.01294786,\n",
       "       0.01294133, 0.01293481, 0.01292829, 0.01292178, 0.01291527,\n",
       "       0.01290877, 0.01290228, 0.01289579, 0.01288931, 0.01288283,\n",
       "       0.01287637, 0.0128699 , 0.01286345, 0.012857  , 0.01285056,\n",
       "       0.01284412, 0.01283769, 0.01283127, 0.01282485, 0.01281844,\n",
       "       0.01281203, 0.01280563, 0.01279924, 0.01279285, 0.01278647,\n",
       "       0.0127801 , 0.01277373, 0.01276737, 0.01276101, 0.01275466,\n",
       "       0.01274832, 0.01274198, 0.01273565, 0.01272933, 0.01272301,\n",
       "       0.0127167 , 0.01271039, 0.01270409, 0.0126978 , 0.01269151,\n",
       "       0.01268523, 0.01267895, 0.01267268, 0.01266642, 0.01266016,\n",
       "       0.01265391, 0.01264766, 0.01264142, 0.01263519, 0.01262896,\n",
       "       0.01262274, 0.01261653, 0.01261032, 0.01260412, 0.01259792,\n",
       "       0.01259173, 0.01258554, 0.01257937, 0.01257319, 0.01256703,\n",
       "       0.01256087, 0.01255471, 0.01254856, 0.01254242, 0.01253628,\n",
       "       0.01253015, 0.01252403, 0.01251791, 0.0125118 , 0.01250569,\n",
       "       0.01249959, 0.01249349, 0.0124874 , 0.01248132, 0.01247524,\n",
       "       0.01246917, 0.01246311, 0.01245705, 0.01245099, 0.01244495,\n",
       "       0.0124389 , 0.01243287, 0.01242684, 0.01242081, 0.01241479,\n",
       "       0.01240878, 0.01240277, 0.01239677, 0.01239078, 0.01238479,\n",
       "       0.01237881, 0.01237283, 0.01236686, 0.01236089, 0.01235493,\n",
       "       0.01234898, 0.01234303, 0.01233708, 0.01233115, 0.01232521,\n",
       "       0.01231929, 0.01231337, 0.01230746, 0.01230155, 0.01229564,\n",
       "       0.01228975, 0.01228386, 0.01227797, 0.01227209, 0.01226622,\n",
       "       0.01226035, 0.01225449, 0.01224863, 0.01224278, 0.01223693,\n",
       "       0.01223109, 0.01222526, 0.01221943, 0.01221361, 0.01220779,\n",
       "       0.01220198, 0.01219617, 0.01219037, 0.01218458, 0.01217879,\n",
       "       0.012173  , 0.01216723, 0.01216145, 0.01215569, 0.01214993,\n",
       "       0.01214417, 0.01213842, 0.01213268, 0.01212694, 0.01212121,\n",
       "       0.01211548, 0.01210976, 0.01210404, 0.01209833, 0.01209262,\n",
       "       0.01208692, 0.01208123, 0.01207554, 0.01206986, 0.01206418,\n",
       "       0.01205851, 0.01205284, 0.01204718, 0.01204152, 0.01203587,\n",
       "       0.01203023, 0.01202459, 0.01201896, 0.01201333, 0.01200771,\n",
       "       0.01200209, 0.01199648, 0.01199087, 0.01198527, 0.01197967,\n",
       "       0.01197408, 0.0119685 , 0.01196292, 0.01195735, 0.01195178,\n",
       "       0.01194622, 0.01194066, 0.01193511, 0.01192956, 0.01192402,\n",
       "       0.01191848, 0.01191295, 0.01190742, 0.01190191, 0.01189639,\n",
       "       0.01189088, 0.01188538, 0.01187988, 0.01187439, 0.0118689 ,\n",
       "       0.01186342, 0.01185794, 0.01185247, 0.011847  , 0.01184154,\n",
       "       0.01183608, 0.01183063, 0.01182519, 0.01181975, 0.01181431,\n",
       "       0.01180888, 0.01180346, 0.01179804, 0.01179262, 0.01178722,\n",
       "       0.01178181, 0.01177641, 0.01177102, 0.01176563, 0.01176025,\n",
       "       0.01175488, 0.0117495 , 0.01174414, 0.01173878, 0.01173342,\n",
       "       0.01172807, 0.01172272, 0.01171738, 0.01171205, 0.01170672,\n",
       "       0.01170139, 0.01169607, 0.01169076, 0.01168545, 0.01168014,\n",
       "       0.01167484, 0.01166955, 0.01166426, 0.01165898, 0.0116537 ,\n",
       "       0.01164842, 0.01164315, 0.01163789, 0.01163263, 0.01162738,\n",
       "       0.01162213, 0.01161689, 0.01161165, 0.01160642, 0.01160119,\n",
       "       0.01159597, 0.01159075, 0.01158554, 0.01158033, 0.01157513,\n",
       "       0.01156993, 0.01156474, 0.01155955, 0.01155437, 0.01154919,\n",
       "       0.01154402, 0.01153885, 0.01153369, 0.01152853, 0.01152338,\n",
       "       0.01151823, 0.01151309, 0.01150795, 0.01150282, 0.01149769,\n",
       "       0.01149257, 0.01148745, 0.01148234, 0.01147724, 0.01147213,\n",
       "       0.01146704, 0.01146194, 0.01145686, 0.01145177, 0.0114467 ,\n",
       "       0.01144162, 0.01143655, 0.01143149, 0.01142643, 0.01142138,\n",
       "       0.01141633, 0.01141129, 0.01140625, 0.01140122, 0.01139619,\n",
       "       0.01139117, 0.01138615, 0.01138113, 0.01137612, 0.01137112,\n",
       "       0.01136612, 0.01136113, 0.01135614, 0.01135115, 0.01134617,\n",
       "       0.0113412 , 0.01133623, 0.01133126, 0.0113263 , 0.01132134,\n",
       "       0.01131639, 0.01131145, 0.01130651, 0.01130157, 0.01129664,\n",
       "       0.01129171, 0.01128679, 0.01128187, 0.01127696, 0.01127205,\n",
       "       0.01126715, 0.01126225, 0.01125735, 0.01125246, 0.01124758,\n",
       "       0.0112427 , 0.01123783, 0.01123296, 0.01122809, 0.01122323,\n",
       "       0.01121837, 0.01121352, 0.01120868, 0.01120384, 0.011199  ,\n",
       "       0.01119417, 0.01118934, 0.01118452, 0.0111797 , 0.01117488,\n",
       "       0.01117008, 0.01116527, 0.01116047, 0.01115568, 0.01115089,\n",
       "       0.0111461 , 0.01114132, 0.01113654, 0.01113177, 0.011127  ,\n",
       "       0.01112224, 0.01111748, 0.01111273, 0.01110798, 0.01110324,\n",
       "       0.0110985 , 0.01109376, 0.01108903, 0.01108431, 0.01107959,\n",
       "       0.01107487, 0.01107016, 0.01106545, 0.01106075, 0.01105605,\n",
       "       0.01105136, 0.01104667, 0.01104199, 0.01103731, 0.01103263,\n",
       "       0.01102796, 0.01102329, 0.01101863, 0.01101397, 0.01100932,\n",
       "       0.01100467, 0.01100003, 0.01099539, 0.01099076, 0.01098613,\n",
       "       0.0109815 , 0.01097688, 0.01097226, 0.01096765, 0.01096304,\n",
       "       0.01095844, 0.01095384, 0.01094925, 0.01094466, 0.01094007])"
      ]
     },
     "execution_count": 171,
     "metadata": {},
     "output_type": "execute_result"
    }
   ],
   "source": [
    "cost"
   ]
  },
  {
   "cell_type": "markdown",
   "metadata": {},
   "source": [
    "##### 之后我们将刚刚得到的theta带入到代价函数"
   ]
  },
  {
   "cell_type": "code",
   "execution_count": 172,
   "metadata": {},
   "outputs": [
    {
     "data": {
      "text/plain": [
       "0.010940070088477633"
      ]
     },
     "execution_count": 172,
     "metadata": {},
     "output_type": "execute_result"
    }
   ],
   "source": [
    "costFunction(X,y,g)"
   ]
  },
  {
   "cell_type": "markdown",
   "metadata": {},
   "source": [
    "#####  现在绘制线性模型以及数据，直观地看出它的拟合"
   ]
  },
  {
   "cell_type": "code",
   "execution_count": 173,
   "metadata": {},
   "outputs": [
    {
     "data": {
      "image/png": "[encoded data removed]",
      "text/plain": [
       "<Figure size 864x576 with 1 Axes>"
      ]
     },
     "metadata": {
      "needs_background": "light"
     },
     "output_type": "display_data"
    }
   ],
   "source": [
    "x = np.linspace(data.Pop.min(),data.Pop.max(),100) #numpy.linspace 函数用于创建一个一维数组，数组是一个等差数列构成的\n",
    "# 三个参数分别是序列起始、终止、步长\n",
    "\n",
    "f = g[0,0]+(g[0,1]*x) #此时我们可以得出x和theta的值，求出线性函数h的值得集合，即矩阵\n",
    "fig,ax = plt.subplots(figsize=(12,8))\n",
    "ax.plot(x, f, 'r', label='Prediction') # x是未知数，f是我们求出线性函数,'r'指的是红色\n",
    "ax.scatter(data.Pop,data.Profit,label='Traning Data')\n",
    "ax.legend(loc=2) #设置图例位置\n",
    "#        ===============   =============\n",
    "#         Location String   Location Code\n",
    "#        ===============   =============\n",
    "#        'best'             0\n",
    "#        'upper right'      1\n",
    "#        'upper left'       2\n",
    "#         'lower left'      3\n",
    "#         'lower right'     4\n",
    "#         'right'           5\n",
    "#         'center left'     6\n",
    "#         'center right'    7\n",
    "#         'lower center'    8\n",
    "#         'upper center'    9\n",
    "#         'center'          10\n",
    "#         ===============   ============= \n",
    "ax.set_xlabel('Population')\n",
    "ax.set_ylabel('Profit')\n",
    "ax.set_title('Predicted Profit vs. Population Size')\n",
    "plt.show()"
   ]
  },
  {
   "cell_type": "markdown",
   "metadata": {},
   "source": [
    "#####  凸优化-代价降低 ,从图中就可以看出代价函数的值不断降低，逐渐靠近0"
   ]
  },
  {
   "cell_type": "code",
   "execution_count": null,
   "metadata": {},
   "outputs": [],
   "source": [
    "fig,ax = plt.subplots(figsize=(12,8))\n",
    "ax.plot(np.arange(iters),cost,'r') #np.arange(iters)指的是0-999的一维数组,cost是我们上面求出的代价函数的结果集\n",
    "ax.set_xlabel('Iterations')\n",
    "ax.set_ylabel('cost')\n",
    "ax.set_title('Error vs. Training Epoch')\n",
    "plt.show()"
   ]
  },
  {
   "cell_type": "code",
   "execution_count": null,
   "metadata": {},
   "outputs": [],
   "source": []
  },
  {
   "cell_type": "code",
   "execution_count": null,
   "metadata": {},
   "outputs": [],
   "source": []
  }
 ],
 "metadata": {
  "kernelspec": {
   "display_name": "Python 3",
   "language": "python",
   "name": "python3"
  },
  "language_info": {
   "codemirror_mode": {
    "name": "ipython",
    "version": 3
   },
   "file_extension": ".py",
   "mimetype": "text/x-python",
   "name": "python",
   "nbconvert_exporter": "python",
   "pygments_lexer": "ipython3",
   "version": "3.7.3"
  }
 },
 "nbformat": 4,
 "nbformat_minor": 2
}
